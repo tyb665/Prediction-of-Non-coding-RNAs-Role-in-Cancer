{
 "cells": [
  {
   "cell_type": "code",
   "execution_count": null,
   "id": "7b9ef0bd-35c9-418c-86ba-e9a3b53d9a79",
   "metadata": {},
   "outputs": [],
   "source": []
  },
  {
   "cell_type": "code",
   "execution_count": 2,
   "id": "af72f6cc-bf2f-4280-ae34-8eb2f28735ba",
   "metadata": {},
   "outputs": [
    {
     "name": "stdout",
     "output_type": "stream",
     "text": [
      "Totally identified 84 down-regulated genes\n"
     ]
    }
   ],
   "source": [
    "import pandas as pd\n",
    "\n",
    "# Read the results of DEG\n",
    "deg_df = pd.read_csv(r\"D:\\project data\\M-28\\NTU_DATA_CLEANED\\PAAD_DEG_Significant_Results.csv\")\n",
    "\n",
    "# Extract down-regulated genes (log2FC < -1 and significant FDR)\n",
    "down_genes = deg_df[(deg_df[\"Log2_Fold_Change\"] < -1) & (deg_df[\"Adj_P_Value\"] < 0.05)][\"HGNC_Symbol\"].dropna().tolist()\n",
    "\n",
    "print(f\"Totally identified {len(down_genes)} down-regulated genes\")\n"
   ]
  },
  {
   "cell_type": "markdown",
   "id": "57be665c-0274-4f7b-920b-d8f77c92461e",
   "metadata": {},
   "source": [
    "The down-regulation of genes is too less.\n",
    "\r\n",
    "Let's draw a distribution map to have a loo.\n",
    "\r\n"
   ]
  },
  {
   "cell_type": "code",
   "execution_count": 20,
   "id": "92633539-1132-4771-b398-74a5a803417f",
   "metadata": {},
   "outputs": [
    {
     "data": {
      "image/png": "[encoded data removed]",
      "text/plain": [
       "<Figure size 600x400 with 1 Axes>"
      ]
     },
     "metadata": {},
     "output_type": "display_data"
    }
   ],
   "source": [
    "import matplotlib.pyplot as plt\n",
    "\n",
    "# View the distribution histogram of log2FC\n",
    "plt.figure(figsize=(6, 4))\n",
    "deg_df[\"Log2_Fold_Change\"].hist(bins=50, color=\"steelblue\")\n",
    "plt.axvline(0, color=\"red\", linestyle=\"--\")\n",
    "plt.title(\"Distribution of Log2 Fold Change (DEGs)\")\n",
    "plt.xlabel(\"Log2 Fold Change\")\n",
    "plt.ylabel(\"Gene Count\")\n",
    "plt.tight_layout()\n",
    "plt.show()\n"
   ]
  },
  {
   "cell_type": "markdown",
   "id": "de0143a9-3f38-4bcd-a6ae-d96115004eb4",
   "metadata": {},
   "source": [
    "It was mainly the up-regulation of genes, and the down-regulation was too little. \r\n",
    "<br>\n"
   ]
  },
  {
   "cell_type": "code",
   "execution_count": 6,
   "id": "aca1f1b8-d750-419f-b896-4562add618f3",
   "metadata": {},
   "outputs": [
    {
     "ename": "ValueError",
     "evalue": "Warning: No enrich terms when cutoff = 0.1",
     "output_type": "error",
     "traceback": [
      "\u001b[1;31m---------------------------------------------------------------------------\u001b[0m",
      "\u001b[1;31mValueError\u001b[0m                                Traceback (most recent call last)",
      "Cell \u001b[1;32mIn[6], line 4\u001b[0m\n\u001b[0;32m      1\u001b[0m \u001b[38;5;28;01mimport\u001b[39;00m \u001b[38;5;21;01mgseapy\u001b[39;00m \u001b[38;5;28;01mas\u001b[39;00m \u001b[38;5;21;01mgp\u001b[39;00m\n\u001b[0;32m      3\u001b[0m \u001b[38;5;66;03m# Use the gseapy.enrichr method\u001b[39;00m\n\u001b[1;32m----> 4\u001b[0m enr \u001b[38;5;241m=\u001b[39m gp\u001b[38;5;241m.\u001b[39menrichr(\n\u001b[0;32m      5\u001b[0m     gene_list\u001b[38;5;241m=\u001b[39mdown_genes,\n\u001b[0;32m      6\u001b[0m     gene_sets\u001b[38;5;241m=\u001b[39m[\u001b[38;5;124m\"\u001b[39m\u001b[38;5;124mGO_Biological_Process_2021\u001b[39m\u001b[38;5;124m\"\u001b[39m, \u001b[38;5;124m\"\u001b[39m\u001b[38;5;124mKEGG_2021_Human\u001b[39m\u001b[38;5;124m\"\u001b[39m],\n\u001b[0;32m      7\u001b[0m     organism\u001b[38;5;241m=\u001b[39m\u001b[38;5;124m\"\u001b[39m\u001b[38;5;124mHuman\u001b[39m\u001b[38;5;124m\"\u001b[39m,\n\u001b[0;32m      8\u001b[0m     outdir\u001b[38;5;241m=\u001b[39m\u001b[38;5;124m\"\u001b[39m\u001b[38;5;124mdownregulated_enrichr_results\u001b[39m\u001b[38;5;124m\"\u001b[39m,  \u001b[38;5;66;03m# output directory\u001b[39;00m\n\u001b[0;32m      9\u001b[0m     cutoff\u001b[38;5;241m=\u001b[39m\u001b[38;5;241m0.1\u001b[39m\n\u001b[0;32m     10\u001b[0m )\n\u001b[0;32m     12\u001b[0m \u001b[38;5;66;03m# Print the top 10 result\u001b[39;00m\n\u001b[0;32m     13\u001b[0m \u001b[38;5;28mprint\u001b[39m(\u001b[38;5;124m\"\u001b[39m\u001b[38;5;130;01m\\n\u001b[39;00m\u001b[38;5;124mTop downregulated pathways:\u001b[39m\u001b[38;5;124m\"\u001b[39m)\n",
      "File \u001b[1;32m~\\anaconda3\\Lib\\site-packages\\gseapy\\__init__.py:554\u001b[0m, in \u001b[0;36menrichr\u001b[1;34m(gene_list, gene_sets, organism, outdir, background, cutoff, format, figsize, top_term, no_plot, verbose)\u001b[0m\n\u001b[0;32m    552\u001b[0m \u001b[38;5;66;03m# set organism\u001b[39;00m\n\u001b[0;32m    553\u001b[0m enr\u001b[38;5;241m.\u001b[39mset_organism()\n\u001b[1;32m--> 554\u001b[0m enr\u001b[38;5;241m.\u001b[39mrun()\n\u001b[0;32m    556\u001b[0m \u001b[38;5;28;01mreturn\u001b[39;00m enr\n",
      "File \u001b[1;32m~\\anaconda3\\Lib\\site-packages\\gseapy\\enrichr.py:677\u001b[0m, in \u001b[0;36mEnrichr.run\u001b[1;34m(self)\u001b[0m\n\u001b[0;32m    675\u001b[0m     \u001b[38;5;66;03m# plotting\u001b[39;00m\n\u001b[0;32m    676\u001b[0m     \u001b[38;5;28;01mif\u001b[39;00m \u001b[38;5;129;01mnot\u001b[39;00m \u001b[38;5;28mself\u001b[39m\u001b[38;5;241m.\u001b[39m__no_plot:\n\u001b[1;32m--> 677\u001b[0m         ax \u001b[38;5;241m=\u001b[39m barplot(\n\u001b[0;32m    678\u001b[0m             df\u001b[38;5;241m=\u001b[39mres,\n\u001b[0;32m    679\u001b[0m             cutoff\u001b[38;5;241m=\u001b[39m\u001b[38;5;28mself\u001b[39m\u001b[38;5;241m.\u001b[39mcutoff,\n\u001b[0;32m    680\u001b[0m             figsize\u001b[38;5;241m=\u001b[39m\u001b[38;5;28mself\u001b[39m\u001b[38;5;241m.\u001b[39mfigsize,\n\u001b[0;32m    681\u001b[0m             top_term\u001b[38;5;241m=\u001b[39m\u001b[38;5;28mself\u001b[39m\u001b[38;5;241m.\u001b[39m__top_term,\n\u001b[0;32m    682\u001b[0m             color\u001b[38;5;241m=\u001b[39m\u001b[38;5;124m\"\u001b[39m\u001b[38;5;124msalmon\u001b[39m\u001b[38;5;124m\"\u001b[39m,\n\u001b[0;32m    683\u001b[0m             title\u001b[38;5;241m=\u001b[39m\u001b[38;5;28mself\u001b[39m\u001b[38;5;241m.\u001b[39m_gs,\n\u001b[0;32m    684\u001b[0m             ofname\u001b[38;5;241m=\u001b[39moutfile\u001b[38;5;241m.\u001b[39mreplace(\u001b[38;5;124m\"\u001b[39m\u001b[38;5;124mtxt\u001b[39m\u001b[38;5;124m\"\u001b[39m, \u001b[38;5;28mself\u001b[39m\u001b[38;5;241m.\u001b[39mformat),\n\u001b[0;32m    685\u001b[0m         )\n\u001b[0;32m    686\u001b[0m         \u001b[38;5;28mself\u001b[39m\u001b[38;5;241m.\u001b[39m_logger\u001b[38;5;241m.\u001b[39mdebug(\u001b[38;5;124m\"\u001b[39m\u001b[38;5;124mGenerate figures\u001b[39m\u001b[38;5;124m\"\u001b[39m)\n\u001b[0;32m    687\u001b[0m \u001b[38;5;28;01mif\u001b[39;00m \u001b[38;5;28mlen\u001b[39m(\u001b[38;5;28mself\u001b[39m\u001b[38;5;241m.\u001b[39mresults) \u001b[38;5;241m==\u001b[39m \u001b[38;5;241m0\u001b[39m:\n",
      "File \u001b[1;32m~\\anaconda3\\Lib\\site-packages\\gseapy\\plot.py:1331\u001b[0m, in \u001b[0;36mbarplot\u001b[1;34m(df, column, group, title, cutoff, top_term, ax, figsize, color, ofname, **kwargs)\u001b[0m\n\u001b[0;32m   1299\u001b[0m \u001b[38;5;28;01mdef\u001b[39;00m \u001b[38;5;21mbarplot\u001b[39m(\n\u001b[0;32m   1300\u001b[0m     df: pd\u001b[38;5;241m.\u001b[39mDataFrame,\n\u001b[0;32m   1301\u001b[0m     column: \u001b[38;5;28mstr\u001b[39m \u001b[38;5;241m=\u001b[39m \u001b[38;5;124m\"\u001b[39m\u001b[38;5;124mAdjusted P-value\u001b[39m\u001b[38;5;124m\"\u001b[39m,\n\u001b[1;32m   (...)\u001b[0m\n\u001b[0;32m   1310\u001b[0m     \u001b[38;5;241m*\u001b[39m\u001b[38;5;241m*\u001b[39mkwargs,\n\u001b[0;32m   1311\u001b[0m ):\n\u001b[0;32m   1312\u001b[0m \u001b[38;5;250m    \u001b[39m\u001b[38;5;124;03m\"\"\"Visualize GSEApy Results.\u001b[39;00m\n\u001b[0;32m   1313\u001b[0m \u001b[38;5;124;03m    When multiple datasets exist in the input dataframe, the `group` argument is your friend.\u001b[39;00m\n\u001b[0;32m   1314\u001b[0m \n\u001b[1;32m   (...)\u001b[0m\n\u001b[0;32m   1329\u001b[0m \u001b[38;5;124;03m             Only terms with `column` <= `cut-off` are plotted.\u001b[39;00m\n\u001b[0;32m   1330\u001b[0m \u001b[38;5;124;03m    \"\"\"\u001b[39;00m\n\u001b[1;32m-> 1331\u001b[0m     dot \u001b[38;5;241m=\u001b[39m DotPlot(\n\u001b[0;32m   1332\u001b[0m         df\u001b[38;5;241m=\u001b[39mdf,\n\u001b[0;32m   1333\u001b[0m         x\u001b[38;5;241m=\u001b[39mgroup \u001b[38;5;28;01mif\u001b[39;00m group \u001b[38;5;28;01melse\u001b[39;00m \u001b[38;5;28;01mNone\u001b[39;00m,  \u001b[38;5;66;03m# x turns into hue in bar\u001b[39;00m\n\u001b[0;32m   1334\u001b[0m         y\u001b[38;5;241m=\u001b[39m\u001b[38;5;124m\"\u001b[39m\u001b[38;5;124mTerm\u001b[39m\u001b[38;5;124m\"\u001b[39m,\n\u001b[0;32m   1335\u001b[0m         hue\u001b[38;5;241m=\u001b[39mcolumn,  \u001b[38;5;66;03m# hue turns into x in bar\u001b[39;00m\n\u001b[0;32m   1336\u001b[0m         title\u001b[38;5;241m=\u001b[39mtitle,\n\u001b[0;32m   1337\u001b[0m         thresh\u001b[38;5;241m=\u001b[39mcutoff,\n\u001b[0;32m   1338\u001b[0m         n_terms\u001b[38;5;241m=\u001b[39m\u001b[38;5;28mint\u001b[39m(top_term),\n\u001b[0;32m   1339\u001b[0m         figsize\u001b[38;5;241m=\u001b[39mfigsize,\n\u001b[0;32m   1340\u001b[0m         cmap\u001b[38;5;241m=\u001b[39m\u001b[38;5;124m\"\u001b[39m\u001b[38;5;124mviridis\u001b[39m\u001b[38;5;124m\"\u001b[39m,  \u001b[38;5;66;03m# placeholder only\u001b[39;00m\n\u001b[0;32m   1341\u001b[0m         ofname\u001b[38;5;241m=\u001b[39mofname,\n\u001b[0;32m   1342\u001b[0m         ax\u001b[38;5;241m=\u001b[39max,\n\u001b[0;32m   1343\u001b[0m     )\n\u001b[0;32m   1344\u001b[0m     \u001b[38;5;28;01mif\u001b[39;00m \u001b[38;5;28misinstance\u001b[39m(color, \u001b[38;5;28mstr\u001b[39m):\n\u001b[0;32m   1345\u001b[0m         color \u001b[38;5;241m=\u001b[39m [color]\n",
      "File \u001b[1;32m~\\anaconda3\\Lib\\site-packages\\gseapy\\plot.py:692\u001b[0m, in \u001b[0;36mDotPlot.__init__\u001b[1;34m(self, df, x, y, hue, dot_scale, x_order, y_order, thresh, n_terms, title, ax, figsize, cmap, ofname, marker, **kwargs)\u001b[0m\n\u001b[0;32m    690\u001b[0m \u001b[38;5;28mself\u001b[39m\u001b[38;5;241m.\u001b[39mn_terms \u001b[38;5;241m=\u001b[39m n_terms\n\u001b[0;32m    691\u001b[0m \u001b[38;5;28mself\u001b[39m\u001b[38;5;241m.\u001b[39mthresh \u001b[38;5;241m=\u001b[39m thresh\n\u001b[1;32m--> 692\u001b[0m \u001b[38;5;28mself\u001b[39m\u001b[38;5;241m.\u001b[39mdata \u001b[38;5;241m=\u001b[39m \u001b[38;5;28mself\u001b[39m\u001b[38;5;241m.\u001b[39mprocess(df)\n\u001b[0;32m    693\u001b[0m plt\u001b[38;5;241m.\u001b[39mrcParams\u001b[38;5;241m.\u001b[39mupdate({\u001b[38;5;124m\"\u001b[39m\u001b[38;5;124mpdf.fonttype\u001b[39m\u001b[38;5;124m\"\u001b[39m: \u001b[38;5;241m42\u001b[39m, \u001b[38;5;124m\"\u001b[39m\u001b[38;5;124mps.fonttype\u001b[39m\u001b[38;5;124m\"\u001b[39m: \u001b[38;5;241m42\u001b[39m})\n",
      "File \u001b[1;32m~\\anaconda3\\Lib\\site-packages\\gseapy\\plot.py:717\u001b[0m, in \u001b[0;36mDotPlot.process\u001b[1;34m(self, df)\u001b[0m\n\u001b[0;32m    715\u001b[0m \u001b[38;5;28;01mif\u001b[39;00m df\u001b[38;5;241m.\u001b[39mshape[\u001b[38;5;241m0\u001b[39m] \u001b[38;5;241m<\u001b[39m \u001b[38;5;241m1\u001b[39m:\n\u001b[0;32m    716\u001b[0m     msg \u001b[38;5;241m=\u001b[39m \u001b[38;5;124m\"\u001b[39m\u001b[38;5;124mWarning: No enrich terms when cutoff = \u001b[39m\u001b[38;5;132;01m%s\u001b[39;00m\u001b[38;5;124m\"\u001b[39m \u001b[38;5;241m%\u001b[39m \u001b[38;5;28mself\u001b[39m\u001b[38;5;241m.\u001b[39mthresh\n\u001b[1;32m--> 717\u001b[0m     \u001b[38;5;28;01mraise\u001b[39;00m \u001b[38;5;167;01mValueError\u001b[39;00m(msg)\n\u001b[0;32m    718\u001b[0m \u001b[38;5;28mself\u001b[39m\u001b[38;5;241m.\u001b[39mcbar_title \u001b[38;5;241m=\u001b[39m \u001b[38;5;28mself\u001b[39m\u001b[38;5;241m.\u001b[39mcolname\n\u001b[0;32m    719\u001b[0m \u001b[38;5;66;03m# clip GSEA lower bounds\u001b[39;00m\n\u001b[0;32m    720\u001b[0m \u001b[38;5;66;03m# if self.colname in [\"NOM p-val\", \"FDR q-val\"]:\u001b[39;00m\n\u001b[0;32m    721\u001b[0m \u001b[38;5;66;03m#     df[self.colname].clip(1e-5, 1.0, inplace=True)\u001b[39;00m\n\u001b[0;32m    722\u001b[0m \u001b[38;5;66;03m# sorting the dataframe for better visualization\u001b[39;00m\n",
      "\u001b[1;31mValueError\u001b[0m: Warning: No enrich terms when cutoff = 0.1"
     ]
    }
   ],
   "source": [
    "import gseapy as gp\n",
    "\n",
    "# Use the gseapy.enrichr method\n",
    "enr = gp.enrichr(\n",
    "    gene_list=down_genes,\n",
    "    gene_sets=[\"GO_Biological_Process_2021\", \"KEGG_2021_Human\"],\n",
    "    organism=\"Human\",\n",
    "    outdir=\"downregulated_enrichr_results\",  # output directory\n",
    "    cutoff=0.1\n",
    ")\n",
    "\n",
    "# Print the top 10 result\n",
    "print(\"\\nTop downregulated pathways:\")\n",
    "print(enr.results.head(10))\n"
   ]
  },
  {
   "cell_type": "markdown",
   "id": "e1ea1843-74ab-4a5a-a600-8e87fbcd81aa",
   "metadata": {},
   "source": [
    "Even we changed the parameters Log2_Fold_Change and Adj_P_Value, the filtering range remains the same\n",
    "\n",
    "At present, there are two options:<br>\n",
    "1. Try using the all results table (no need for significant results).<br>\n",
    "2. Directly change to GSEA instead of GO\\KEGG\r\n",
    "\n",
    "First try to use DEG all results.d1"
   ]
  },
  {
   "cell_type": "code",
   "execution_count": 14,
   "id": "a73c2de5-2048-46eb-aa88-1cd640479b42",
   "metadata": {},
   "outputs": [
    {
     "name": "stdout",
     "output_type": "stream",
     "text": [
      "Totally identified84 down-regulated genes\n"
     ]
    }
   ],
   "source": [
    "import pandas as pd\n",
    "\n",
    "# Read the results of DEG\n",
    "deg_df = pd.read_csv(r\"D:\\project data\\M-28\\NTU_DATA_CLEANED\\PAAD_DEG_All_Results.csv\")\n",
    "\n",
    "# Extract down-regulated genes (log2FC < -1 and significant FDR)\n",
    "down_genes = deg_df[(deg_df[\"Log2_Fold_Change\"] < -1) & (deg_df[\"Adj_P_Value\"] < 0.05)][\"HGNC_Symbol\"].dropna().tolist()\n",
    "\n",
    "print(f\"Totally identified{len(down_genes)} down-regulated genes\")"
   ]
  },
  {
   "cell_type": "markdown",
   "id": "8ab7646d-9a2d-483d-9129-04e7ca146357",
   "metadata": {},
   "source": [
    "The down-regulation of the gene remains unchanged, then we'll directly modify **GSEA**\r\n",
    "The Lead Genes with significant \"down-regulation pathways\" in the GSEA analysis were used to represent the down-regulation modules, followed by Enrichr enrichment analysis分析The advantage of doing this is:\r\n",
    "1. It does not depend on whether there are down-regulated genes in DEG: because GSEA is a whole gene sequencing analysis <br>\r",
    "2. It✅ can represent pathways to regulate \"core Genes that are actually inhibited\" : these Lead Genes are key to negative NES <br>3.\n",
    "The r scenario (MIR100HG high expression group pathway down-regulation) : perfectly aligns witr research objectiv的研究目标\n"
   ]
  },
  {
   "cell_type": "code",
   "execution_count": 17,
   "id": "790ac7c5-5a43-476e-a4c3-99ea1faeec20",
   "metadata": {},
   "outputs": [
    {
     "ename": "NameError",
     "evalue": "name 'gsea_res' is not defined",
     "output_type": "error",
     "traceback": [
      "\u001b[1;31m---------------------------------------------------------------------------\u001b[0m",
      "\u001b[1;31mNameError\u001b[0m                                 Traceback (most recent call last)",
      "Cell \u001b[1;32mIn[17], line 2\u001b[0m\n\u001b[0;32m      1\u001b[0m \u001b[38;5;66;03m# ✅ 提取 GSEA 中 NES < 0 的下调通路\u001b[39;00m\n\u001b[1;32m----> 2\u001b[0m down_pathways \u001b[38;5;241m=\u001b[39m gsea_res\u001b[38;5;241m.\u001b[39mres2d[gsea_res\u001b[38;5;241m.\u001b[39mres2d[\u001b[38;5;124m\"\u001b[39m\u001b[38;5;124mNES\u001b[39m\u001b[38;5;124m\"\u001b[39m] \u001b[38;5;241m<\u001b[39m \u001b[38;5;241m0\u001b[39m]\n\u001b[0;32m      4\u001b[0m \u001b[38;5;66;03m# ✅ 收集所有 Lead Genes\u001b[39;00m\n\u001b[0;32m      5\u001b[0m lead_genes_all \u001b[38;5;241m=\u001b[39m []\n",
      "\u001b[1;31mNameError\u001b[0m: name 'gsea_res' is not defined"
     ]
    }
   ],
   "source": [
    "# ✅ 提取 GSEA 中 NES < 0 的下调通路\n",
    "down_pathways = gsea_res.res2d[gsea_res.res2d[\"NES\"] < 0]\n",
    "\n",
    "# ✅ 收集所有 Lead Genes\n",
    "lead_genes_all = []\n",
    "for genes in down_pathways[\"Lead_genes\"]:\n",
    "    lead_genes_all.extend(genes.split(\";\"))\n",
    "\n",
    "# ✅ 去重\n",
    "lead_genes_unique = list(set(lead_genes_all))\n",
    "print(f\"The number of Lead Genes extracted from the down-regulation pathway：{len(lead_genes_unique)}\")\n",
    "\n",
    "# ✅ 进行 Enrichr 富集分析\n",
    "import gseapy as gp\n",
    "\n",
    "enr_lead = gp.enrichr(\n",
    "    gene_list=lead_genes_unique,\n",
    "    gene_sets=[\"GO_Biological_Process_2021\", \"KEGG_2021_Human\"],\n",
    "    organism=\"Human\",\n",
    "    outdir=\"enrichr_from_GSEA_downregulated_leads\",\n",
    "    cutoff=0.2\n",
    ")\n",
    "\n",
    "# ✅ 保存结果\n",
    "# enr_lead.results.to_csv(\"enrichment_from_GSEA_downregulated_leads.csv\", index=False)\n",
    "\n",
    "# ✅ 可选查看 Top 通路\n",
    "print(enr_lead.results.head(10))\n"
   ]
  },
  {
   "cell_type": "code",
   "execution_count": null,
   "id": "2ba961dd-4a32-427e-bea2-8f89a4bbed2b",
   "metadata": {},
   "outputs": [],
   "source": []
  }
 ],
 "metadata": {
  "kernelspec": {
   "display_name": "Python 3 (ipykernel)",
   "language": "python",
   "name": "python3"
  },
  "language_info": {
   "codemirror_mode": {
    "name": "ipython",
    "version": 3
   },
   "file_extension": ".py",
   "mimetype": "text/x-python",
   "name": "python",
   "nbconvert_exporter": "python",
   "pygments_lexer": "ipython3",
   "version": "3.12.4"
  }
 },
 "nbformat": 4,
 "nbformat_minor": 5
}
