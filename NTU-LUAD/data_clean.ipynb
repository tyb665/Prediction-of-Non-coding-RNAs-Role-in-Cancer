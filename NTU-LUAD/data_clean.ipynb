{
 "cells": [
  {
   "cell_type": "code",
   "execution_count": 20,
   "metadata": {},
   "outputs": [],
   "source": [
    "import pandas as pd\n",
    "import gzip\n",
    "import numpy as np"
   ]
  },
  {
   "cell_type": "code",
   "execution_count": 8,
   "metadata": {},
   "outputs": [],
   "source": [
    "#read data\n",
    "file_path_1 = \"TOIL_RSEM_TPM_LUAD.csv\"\n",
    "df_1 = pd.read_csv(file_path_1)\n",
    "file_path_2 = \"TCGA_LUAD_sampleMap_HumanMethylation450.csv\"\n",
    "df_2 = pd.read_csv(file_path_2)"
   ]
  },
  {
   "cell_type": "code",
   "execution_count": 5,
   "metadata": {},
   "outputs": [],
   "source": [
    "#basic infor\n",
    "print(df_1.info)"
   ]
  },
  {
   "cell_type": "code",
   "execution_count": null,
   "metadata": {},
   "outputs": [],
   "source": [
    "print(df_2.info)"
   ]
  },
  {
   "cell_type": "code",
   "execution_count": null,
   "metadata": {},
   "outputs": [],
   "source": [
    "print(df_1.head())"
   ]
  },
  {
   "cell_type": "code",
   "execution_count": 32,
   "metadata": {},
   "outputs": [],
   "source": [
    "print(df_2.head)"
   ]
  },
  {
   "cell_type": "code",
   "execution_count": 25,
   "metadata": {},
   "outputs": [],
   "source": [
    "#rename the columns\n",
    "df_1 = df_1.rename(columns={\"Unnamed: 0\": \"Ensembl_ID\"})\n",
    "df_2 = df_2.rename(columns={\"sample\": \"Probe_ID\"})"
   ]
  },
  {
   "cell_type": "code",
   "execution_count": 12,
   "metadata": {},
   "outputs": [],
   "source": [
    "#add new column\n",
    "df_1.insert(2, \"Cancer_Type\", \"LUAD\")\n",
    "df_2.insert(2, \"Cancer_Type\", \"LUAD\")"
   ]
  },
  {
   "cell_type": "code",
   "execution_count": null,
   "metadata": {},
   "outputs": [],
   "source": [
    "#check\n",
    "print(df_2.columns)\n",
    "print(df_1.columns)"
   ]
  },
  {
   "cell_type": "code",
   "execution_count": 18,
   "metadata": {},
   "outputs": [],
   "source": [
    "#calculate the null value of row\n",
    "rows_with_null_df1 = df_1.isnull().any(axis=1).sum()\n",
    "rows_with_null_df2 = df_2.isnull().any(axis=1).sum()\n",
    "\n",
    "total_rows_df1 = df_1.shape[0]\n",
    "total_rows_df2 = df_2.shape[0]\n",
    "\n",
    "null_row_percentage_df1 = (rows_with_null_df1 / total_rows_df1) * 100\n",
    "null_row_percentage_df2 = (rows_with_null_df2 / total_rows_df2) * 100\n"
   ]
  },
  {
   "cell_type": "code",
   "execution_count": 19,
   "metadata": {},
   "outputs": [],
   "source": [
    "#print the result\n",
    "print(f\"df1_row number of missing values: {rows_with_null_df1}\")\n",
    "print(f\"df2_row number of missing values: {rows_with_null_df2}\")\n",
    "\n",
    "print(f\"df1_row null_value/total: {null_row_percentage_df1:.2f}%\")\n",
    "print(f\"df2_row null_value/total: {null_row_percentage_df2:.2f}%\")"
   ]
  },
  {
   "cell_type": "code",
   "execution_count": 23,
   "metadata": {},
   "outputs": [],
   "source": [
    "#outliers\n",
    "numeric_df_1 = df_1.select_dtypes(include=[\"number\"])\n",
    "df_1_log = np.log2(numeric_df_1 + 1)\n",
    "\n",
    "z_scores_df1 = (df_1_log - df_1_log.mean()) / df_1_log.std()\n",
    "\n",
    "outliers_df1 = z_scores_df1[(z_scores_df1 > 3) | (z_scores_df1 < -3)]\n",
    "\n",
    "print(\"Location of the outlier: \")\n",
    "print(outliers_df1)"
   ]
  }
 ],
 "metadata": {
  "kernelspec": {
   "display_name": "text_analytics",
   "language": "python",
   "name": "text_analytics"
  },
  "language_info": {
   "codemirror_mode": {
    "name": "ipython",
    "version": 3
   },
   "file_extension": ".py",
   "mimetype": "text/x-python",
   "name": "python",
   "nbconvert_exporter": "python",
   "pygments_lexer": "ipython3",
   "version": "3.11.11"
  }
 },
 "nbformat": 4,
 "nbformat_minor": 2
}
