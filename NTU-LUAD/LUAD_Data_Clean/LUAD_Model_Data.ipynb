{
 "cells": [
  {
   "cell_type": "markdown",
   "id": "5a370e1d-168f-4668-9f39-885bf6d2dd2c",
   "metadata": {},
   "source": [
    "# PRAD_Model_TF_Expression_Features.csv"
   ]
  },
  {
   "cell_type": "markdown",
   "id": "e1322c5d-1715-4d28-a6ce-b950ef1d9311",
   "metadata": {},
   "source": [
    "## 处理表达"
   ]
  },
  {
   "cell_type": "code",
   "execution_count": null,
   "id": "74721005-7f9b-49bb-970b-58eb0f5ff6bf",
   "metadata": {},
   "outputs": [
    {
     "name": "stdout",
     "output_type": "stream",
     "text": [
      "  HGNC_Symbol  TCGA_44_6778  TCGA_05_4420  TCGA_64_1679  TCGA_49_6744  \\\n",
      "0        TNMD       -9.9658       -5.5735       -4.2934       -0.8863   \n",
      "1     SLC13A2       -2.3147       -9.9658       -4.2934       -2.3884   \n",
      "2        FMO1       -0.9686        4.3723        2.8974        3.4277   \n",
      "3         DCN        8.5880        7.9856        9.2946        8.8060   \n",
      "4       SNAI2        2.1280        2.2663        3.5911        3.2080   \n",
      "\n",
      "   TCGA_55_6982  TCGA_NJ_A4YI  TCGA_73_4666  TCGA_MN_A4N1  TCGA_55_7911  ...  \\\n",
      "0       -9.9658        2.2693       -3.1714       -3.3076       -9.9658  ...   \n",
      "1       -4.2934       -9.9658       -5.0116       -0.9686       -5.0116  ...   \n",
      "2       -0.4921       -0.2159        1.1897        0.0300       -2.0529  ...   \n",
      "3        9.0189        7.7839        7.4630        6.2599        6.2728  ...   \n",
      "4        2.9413        2.1345        1.1706        0.7493        1.6045  ...   \n",
      "\n",
      "   TCGA_05_4424  TCGA_38_4632  TCGA_49_6761  TCGA_05_4432  TCGA_49_AAQV  \\\n",
      "0       -9.9658       -9.9658       -1.0559       -9.9658       -9.9658   \n",
      "1       -3.0469       -9.9658       -9.9658        1.3167        0.8647   \n",
      "2        1.2333        0.9789        2.1213        0.2029       -0.3022   \n",
      "3        8.6207        7.9449        6.7378        7.7648        6.2136   \n",
      "4        2.6510        1.4011        1.8323        1.8524        0.9568   \n",
      "\n",
      "   TCGA_50_5072  TCGA_50_5045  TCGA_86_8674  TCGA_50_8457  TCGA_95_7947  \n",
      "0       -5.5735       -0.8599       -5.0116       -3.8160       -1.5522  \n",
      "1       -3.8160       -6.5064       -4.6082       -1.4305        5.5053  \n",
      "2        0.0158        2.3077        0.5370        1.1577       -0.7588  \n",
      "3        7.9877        9.0547        5.9258        9.2350        7.3112  \n",
      "4        2.7205        2.4934        0.9268        1.9073        1.2394  \n",
      "\n",
      "[5 rows x 514 columns]\n"
     ]
    }
   ],
   "source": [
    "# Author: Shuojingrui He\n",
    "# Description: Remove the first column (Ensembl_ID) from the expression matrix.\n",
    "\n",
    "import pandas as pd\n",
    "\n",
    "base_path = \"/Users/yangqingdi/Desktop/M-28/NTU_DATA_CLEANED/\"\n",
    "\n",
    "# Load the CSV file\n",
    "prad_file = base_path + \"LUAD_TOIL_RSEM_TPM_Levels_After_DEG_DMA.csv\"\n",
    "prad_df = pd.read_csv(prad_file)\n",
    "\n",
    "# Delete the first column (Ensembl_ID)\n",
    "prad_df.drop(prad_df.columns[0], axis=1, inplace=True)\n",
    "\n",
    "# Save the updated DataFrame back to the CSV file\n",
    "prad_df.to_csv(prad_file, index=False)\n",
    "\n",
    "# Print the first five rows to check the result\n",
    "print(prad_df.head())\n"
   ]
  },
  {
   "cell_type": "markdown",
   "id": "44fc3b6d-3d86-4ce5-99f0-48b3a126c026",
   "metadata": {},
   "source": [
    "## 处理tf"
   ]
  },
  {
   "cell_type": "code",
   "execution_count": null,
   "id": "5e4086a7-d915-44f8-bf2a-64a6d9ca74d2",
   "metadata": {},
   "outputs": [
    {
     "name": "stdout",
     "output_type": "stream",
     "text": [
      "  HGNC_Symbol    Gene_ID TF_Symbol TF_ID\n",
      "0    A1BG-AS1     503538    ARID3A  1820\n",
      "1        A1CF      29974    ARID3A  1820\n",
      "2         A2M          2    ARID3A  1820\n",
      "3        AAA1  100329167    ARID3A  1820\n",
      "4        AAAS       8086    ARID3A  1820\n"
     ]
    }
   ],
   "source": [
    "# Author: Shuojingrui He\n",
    "# Description: Remove the second row (GeneSym,GeneID,GeneSym,GeneID) from TF_Target.csv.\n",
    "\n",
    "import pandas as pd\n",
    "\n",
    "base_path = \"/Users/yangqingdi/Desktop/M-28/NTU_DATA_CLEANED/\"\n",
    "\n",
    "# Load the TF_Target CSV file\n",
    "tf_target_file = base_path + \"TF_Target.csv\"\n",
    "tf_target_df = pd.read_csv(tf_target_file, dtype=str)\n",
    "\n",
    "# Drop the first data row (which is currently index 0)\n",
    "tf_target_df = tf_target_df.iloc[1:, :].reset_index(drop=True)\n",
    "\n",
    "# Save the updated DataFrame back to the CSV file\n",
    "tf_target_df.to_csv(tf_target_file, index=False)\n",
    "\n",
    "# Print the first five rows to check the result\n",
    "print(tf_target_df.head())"
   ]
  },
  {
   "cell_type": "markdown",
   "id": "8a390341-35df-4236-8094-a9a9257a4266",
   "metadata": {},
   "source": [
    "## 得到 PRAD_Model_TF_Expression_Features.csv"
   ]
  },
  {
   "cell_type": "code",
   "execution_count": null,
   "id": "375dd04f-708d-4f81-8322-0a74806a3cc2",
   "metadata": {},
   "outputs": [
    {
     "name": "stdout",
     "output_type": "stream",
     "text": [
      "  TF_Symbol TCGA_44_6778 TCGA_05_4420 TCGA_64_1679 TCGA_49_6744 TCGA_55_6982  \\\n",
      "0      CTCF      -9.9658      -5.5735      -4.2934      -0.8863      -9.9658   \n",
      "1      EZH2      -9.9658      -5.5735      -4.2934      -0.8863      -9.9658   \n",
      "2     H2AFZ      -9.9658      -5.5735      -4.2934      -0.8863      -9.9658   \n",
      "3    POLR2A      -9.9658      -5.5735      -4.2934      -0.8863      -9.9658   \n",
      "4   SUPT20H      -9.9658      -5.5735      -4.2934      -0.8863      -9.9658   \n",
      "\n",
      "  TCGA_NJ_A4YI TCGA_73_4666 TCGA_MN_A4N1 TCGA_55_7911  ... TCGA_05_4424  \\\n",
      "0       2.2693      -3.1714      -3.3076      -9.9658  ...      -9.9658   \n",
      "1       2.2693      -3.1714      -3.3076      -9.9658  ...      -9.9658   \n",
      "2       2.2693      -3.1714      -3.3076      -9.9658  ...      -9.9658   \n",
      "3       2.2693      -3.1714      -3.3076      -9.9658  ...      -9.9658   \n",
      "4       2.2693      -3.1714      -3.3076      -9.9658  ...      -9.9658   \n",
      "\n",
      "  TCGA_38_4632 TCGA_49_6761 TCGA_05_4432 TCGA_49_AAQV TCGA_50_5072  \\\n",
      "0      -9.9658      -1.0559      -9.9658      -9.9658      -5.5735   \n",
      "1      -9.9658      -1.0559      -9.9658      -9.9658      -5.5735   \n",
      "2      -9.9658      -1.0559      -9.9658      -9.9658      -5.5735   \n",
      "3      -9.9658      -1.0559      -9.9658      -9.9658      -5.5735   \n",
      "4      -9.9658      -1.0559      -9.9658      -9.9658      -5.5735   \n",
      "\n",
      "  TCGA_50_5045 TCGA_86_8674 TCGA_50_8457 TCGA_95_7947  \n",
      "0      -0.8599      -5.0116       -3.816      -1.5522  \n",
      "1      -0.8599      -5.0116       -3.816      -1.5522  \n",
      "2      -0.8599      -5.0116       -3.816      -1.5522  \n",
      "3      -0.8599      -5.0116       -3.816      -1.5522  \n",
      "4      -0.8599      -5.0116       -3.816      -1.5522  \n",
      "\n",
      "[5 rows x 514 columns]\n"
     ]
    }
   ],
   "source": [
    "# Author: Shuojingrui He\n",
    "# Description: Generate Model_TF_Expression_Features.csv by replacing HGNC_Symbol with TF_Symbol.\n",
    "\n",
    "import pandas as pd\n",
    "\n",
    "base_path = \"/Users/yangqingdi/Desktop/M-28/NTU_DATA_CLEANED/\"\n",
    "\n",
    "# Load the PRAD expression CSV file\n",
    "prad_file = base_path + \"LUAD_TOIL_RSEM_TPM_Levels_After_DEG_DMA.csv\"\n",
    "prad_df = pd.read_csv(prad_file, dtype=str)\n",
    "\n",
    "# Load the TF_Target CSV file\n",
    "tf_target_file = base_path + \"TF_Target.csv\"\n",
    "tf_target_df = pd.read_csv(tf_target_file, dtype=str)\n",
    "\n",
    "# Merge dataframes on HGNC_Symbol to replace with TF_Symbol\n",
    "merged_df = pd.merge(prad_df, tf_target_df[['HGNC_Symbol', 'TF_Symbol']], on='HGNC_Symbol', how='inner')\n",
    "\n",
    "# Replace HGNC_Symbol with TF_Symbol and drop original HGNC_Symbol\n",
    "merged_df.drop('HGNC_Symbol', axis=1, inplace=True)\n",
    "\n",
    "# Reorder columns to place TF_Symbol first\n",
    "cols = merged_df.columns.tolist()\n",
    "cols.insert(0, cols.pop(cols.index('TF_Symbol')))\n",
    "merged_df = merged_df[cols]\n",
    "\n",
    "# Save the resulting DataFrame to a new CSV file\n",
    "output_file = base_path + \"LUAD_Model_TF_Expression_Features.csv\"\n",
    "merged_df.to_csv(output_file, index=False)\n",
    "\n",
    "# Print the first five rows to check the result\n",
    "print(merged_df.head())"
   ]
  },
  {
   "cell_type": "markdown",
   "id": "87739fbc-5fc2-463b-92e3-e41be8b99720",
   "metadata": {},
   "source": [
    "# PRAD_Model_Gene_Expression_Features.csv"
   ]
  },
  {
   "cell_type": "code",
   "execution_count": null,
   "id": "93ff7ee7-6746-4d02-90dc-87c91b8cb690",
   "metadata": {},
   "outputs": [
    {
     "name": "stdout",
     "output_type": "stream",
     "text": [
      "  HGNC_Symbol  TCGA_44_6778  TCGA_05_4420  TCGA_64_1679  TCGA_49_6744  \\\n",
      "0        TNMD       -9.9658       -5.5735       -4.2934       -0.8863   \n",
      "1     SLC13A2       -2.3147       -9.9658       -4.2934       -2.3884   \n",
      "2        FMO1       -0.9686        4.3723        2.8974        3.4277   \n",
      "3         DCN        8.5880        7.9856        9.2946        8.8060   \n",
      "4       SNAI2        2.1280        2.2663        3.5911        3.2080   \n",
      "\n",
      "   TCGA_55_6982  TCGA_NJ_A4YI  TCGA_73_4666  TCGA_MN_A4N1  TCGA_55_7911  ...  \\\n",
      "0       -9.9658        2.2693       -3.1714       -3.3076       -9.9658  ...   \n",
      "1       -4.2934       -9.9658       -5.0116       -0.9686       -5.0116  ...   \n",
      "2       -0.4921       -0.2159        1.1897        0.0300       -2.0529  ...   \n",
      "3        9.0189        7.7839        7.4630        6.2599        6.2728  ...   \n",
      "4        2.9413        2.1345        1.1706        0.7493        1.6045  ...   \n",
      "\n",
      "   TCGA_05_4424  TCGA_38_4632  TCGA_49_6761  TCGA_05_4432  TCGA_49_AAQV  \\\n",
      "0       -9.9658       -9.9658       -1.0559       -9.9658       -9.9658   \n",
      "1       -3.0469       -9.9658       -9.9658        1.3167        0.8647   \n",
      "2        1.2333        0.9789        2.1213        0.2029       -0.3022   \n",
      "3        8.6207        7.9449        6.7378        7.7648        6.2136   \n",
      "4        2.6510        1.4011        1.8323        1.8524        0.9568   \n",
      "\n",
      "   TCGA_50_5072  TCGA_50_5045  TCGA_86_8674  TCGA_50_8457  TCGA_95_7947  \n",
      "0       -5.5735       -0.8599       -5.0116       -3.8160       -1.5522  \n",
      "1       -3.8160       -6.5064       -4.6082       -1.4305        5.5053  \n",
      "2        0.0158        2.3077        0.5370        1.1577       -0.7588  \n",
      "3        7.9877        9.0547        5.9258        9.2350        7.3112  \n",
      "4        2.7205        2.4934        0.9268        1.9073        1.2394  \n",
      "\n",
      "[5 rows x 514 columns]\n"
     ]
    }
   ],
   "source": [
    "# Author: Shuojingrui He\n",
    "# Description: Rename and save the PRAD expression data with an additional column.\n",
    "\n",
    "import pandas as pd\n",
    "\n",
    "base_path = \"/Users/yangqingdi/Desktop/M-28/NTU_DATA_CLEANED/\"\n",
    "\n",
    "# Load the existing PRAD expression data\n",
    "original_file = base_path + \"LUAD_TOIL_RSEM_TPM_Levels_After_DEG_DMA.csv\"\n",
    "prad_df = pd.read_csv(original_file)\n",
    "\n",
    "\n",
    "# Save the updated DataFrame as a new CSV file\n",
    "new_file = base_path + \"LUAD_Model_Gene_Expression_Features.csv\"\n",
    "prad_df.to_csv(new_file, index=False)\n",
    "\n",
    "# Print the first five rows to check the result\n",
    "print(prad_df.head())\n"
   ]
  },
  {
   "cell_type": "markdown",
   "id": "c7f591c7-c5de-425f-bbfd-c79741ff4354",
   "metadata": {},
   "source": [
    "# PRAD_Model_Methylation_Features.csv"
   ]
  },
  {
   "cell_type": "code",
   "execution_count": null,
   "id": "b276a131-8cf3-4a71-a2b0-19761316b998",
   "metadata": {},
   "outputs": [
    {
     "name": "stdout",
     "output_type": "stream",
     "text": [
      "     Probe_ID  TCGA-44-4112-01  TCGA-NJ-A4YP-01  TCGA-86-8278-01  \\\n",
      "0  cg02389084          0.61600           0.6787           0.5441   \n",
      "1  cg21462633          0.64380           0.6613           0.5885   \n",
      "2  cg02585906          0.54915           0.3414           0.0751   \n",
      "3  cg05848579          0.79245           0.6754           0.8877   \n",
      "4  cg05875421          0.51765           0.4898           0.2296   \n",
      "\n",
      "   TCGA-62-A470-01  TCGA-44-6778-01  TCGA-49-AARQ-01  TCGA-97-A4M1-01  \\\n",
      "0           0.4044           0.5103           0.3348           0.4228   \n",
      "1           0.4676           0.5715           0.5335           0.5880   \n",
      "2           0.5727           0.3867           0.6304           0.3524   \n",
      "3           0.3636           0.4412           0.4730           0.8029   \n",
      "4           0.7417           0.5536           0.6592           0.6443   \n",
      "\n",
      "   TCGA-55-6975-01  TCGA-99-8033-01  ...  TCGA-78-7539-01  TCGA-62-A46S-01  \\\n",
      "0           0.6210           0.6803  ...           0.3723           0.4079   \n",
      "1           0.6497           0.7901  ...           0.4855           0.4723   \n",
      "2           0.3373           0.3921  ...           0.4482           0.4107   \n",
      "3           0.5952           0.7042  ...           0.4166           0.4026   \n",
      "4           0.4833           0.1721  ...           0.6494           0.7192   \n",
      "\n",
      "   TCGA-95-7947-01  TCGA-J2-8192-01  TCGA-78-7145-01  TCGA-50-6593-01  \\\n",
      "0           0.2011           0.3939           0.5690           0.5590   \n",
      "1           0.6590           0.5877           0.4077           0.5791   \n",
      "2           0.6604           0.1515           0.3570           0.1796   \n",
      "3           0.7072           0.4971           0.7975           0.7513   \n",
      "4           0.6848           0.3276           0.7490           0.5422   \n",
      "\n",
      "   TCGA-69-7973-01  TCGA-50-6591-11  TCGA-86-7713-01  TCGA-55-8302-01  \n",
      "0           0.3897           0.6542           0.3915           0.8122  \n",
      "1           0.4359           0.8333           0.4416           0.8006  \n",
      "2           0.5001           0.2678           0.1020           0.1125  \n",
      "3           0.5199           0.8921           0.3070           0.7143  \n",
      "4           0.7507           0.5503           0.7697           0.5789  \n",
      "\n",
      "[5 rows x 493 columns]\n"
     ]
    }
   ],
   "source": [
    "# Author: Shuojingrui He\n",
    "# Description: Rename and save the PRAD methylation data with an additional column.\n",
    "\n",
    "import pandas as pd\n",
    "\n",
    "base_path = \"/Users/yangqingdi/Desktop/M-28/NTU_DATA_CLEANED/\"\n",
    "\n",
    "# Load the existing PRAD methylation data\n",
    "original_file = base_path + \"LUAD_Methylation_Levels_After_DEG_DMA.csv\"\n",
    "methylation_df = pd.read_csv(original_file)\n",
    "\n",
    "# Add a new column with default or placeholder values\n",
    "\n",
    "# Save the updated DataFrame as a new CSV file\n",
    "new_file = base_path + \"LUAD_Model_Methylation_Features.csv\"\n",
    "methylation_df.to_csv(new_file, index=False)\n",
    "\n",
    "# Print the first five rows to check the result\n",
    "print(methylation_df.head())"
   ]
  },
  {
   "cell_type": "code",
   "execution_count": null,
   "id": "d717644a-c637-465e-9f72-c6f839bc973d",
   "metadata": {},
   "outputs": [
    {
     "name": "stdout",
     "output_type": "stream",
     "text": [
      "   TF_Symbol TCGA_44_6778 TCGA_05_4420 TCGA_64_1679 TCGA_49_6744 TCGA_55_6982  \\\n",
      "0     tfCTCF      -9.9658      -5.5735      -4.2934      -0.8863      -9.9658   \n",
      "1     tfEZH2      -9.9658      -5.5735      -4.2934      -0.8863      -9.9658   \n",
      "2    tfH2AFZ      -9.9658      -5.5735      -4.2934      -0.8863      -9.9658   \n",
      "3   tfPOLR2A      -9.9658      -5.5735      -4.2934      -0.8863      -9.9658   \n",
      "4  tfSUPT20H      -9.9658      -5.5735      -4.2934      -0.8863      -9.9658   \n",
      "\n",
      "  TCGA_NJ_A4YI TCGA_73_4666 TCGA_MN_A4N1 TCGA_55_7911  ... TCGA_05_4424  \\\n",
      "0       2.2693      -3.1714      -3.3076      -9.9658  ...      -9.9658   \n",
      "1       2.2693      -3.1714      -3.3076      -9.9658  ...      -9.9658   \n",
      "2       2.2693      -3.1714      -3.3076      -9.9658  ...      -9.9658   \n",
      "3       2.2693      -3.1714      -3.3076      -9.9658  ...      -9.9658   \n",
      "4       2.2693      -3.1714      -3.3076      -9.9658  ...      -9.9658   \n",
      "\n",
      "  TCGA_38_4632 TCGA_49_6761 TCGA_05_4432 TCGA_49_AAQV TCGA_50_5072  \\\n",
      "0      -9.9658      -1.0559      -9.9658      -9.9658      -5.5735   \n",
      "1      -9.9658      -1.0559      -9.9658      -9.9658      -5.5735   \n",
      "2      -9.9658      -1.0559      -9.9658      -9.9658      -5.5735   \n",
      "3      -9.9658      -1.0559      -9.9658      -9.9658      -5.5735   \n",
      "4      -9.9658      -1.0559      -9.9658      -9.9658      -5.5735   \n",
      "\n",
      "  TCGA_50_5045 TCGA_86_8674 TCGA_50_8457 TCGA_95_7947  \n",
      "0      -0.8599      -5.0116       -3.816      -1.5522  \n",
      "1      -0.8599      -5.0116       -3.816      -1.5522  \n",
      "2      -0.8599      -5.0116       -3.816      -1.5522  \n",
      "3      -0.8599      -5.0116       -3.816      -1.5522  \n",
      "4      -0.8599      -5.0116       -3.816      -1.5522  \n",
      "\n",
      "[5 rows x 514 columns]\n"
     ]
    }
   ],
   "source": [
    "# Author: Shuojingrui He\n",
    "# Description: Add 'tf' prefix to TF_Symbol in PRAD_Model_TF_Expression_Features.csv and save as new CSV.\n",
    "\n",
    "import pandas as pd\n",
    "\n",
    "base_path = \"/Users/yangqingdi/Desktop/M-28/NTU_DATA_CLEANED/\"\n",
    "\n",
    "# Load the PRAD_Model_TF_Expression_Features CSV file\n",
    "input_file = base_path + \"LUAD_Model_TF_Expression_Features.csv\"\n",
    "df = pd.read_csv(input_file, dtype=str)\n",
    "\n",
    "# Add 'tf' prefix to TF_Symbol column\n",
    "df['TF_Symbol'] = 'tf' + df['TF_Symbol']\n",
    "\n",
    "# Save the resulting DataFrame to a new CSV file\n",
    "output_file = base_path + \"PRAD_Model_TF_Expression_Features_Withtf.csv\"\n",
    "df.to_csv(output_file, index=False)\n",
    "\n",
    "# Print the first five rows to check the result\n",
    "print(df.head())"
   ]
  },
  {
   "cell_type": "code",
   "execution_count": null,
   "id": "6dfc0bdb",
   "metadata": {},
   "outputs": [
    {
     "ename": "KeyboardInterrupt",
     "evalue": "",
     "output_type": "error",
     "traceback": [
      "\u001b[0;31m---------------------------------------------------------------------------\u001b[0m",
      "\u001b[0;31mKeyboardInterrupt\u001b[0m                         Traceback (most recent call last)",
      "Cell \u001b[0;32mIn[1], line 9\u001b[0m\n\u001b[1;32m      7\u001b[0m \u001b[38;5;66;03m# Read CSV files\u001b[39;00m\n\u001b[1;32m      8\u001b[0m tf_target_df \u001b[38;5;241m=\u001b[39m pd\u001b[38;5;241m.\u001b[39mread_csv(tf_target_path)\n\u001b[0;32m----> 9\u001b[0m expression_df \u001b[38;5;241m=\u001b[39m pd\u001b[38;5;241m.\u001b[39mread_csv(expression_data_path)\n\u001b[1;32m     11\u001b[0m \u001b[38;5;66;03m# Show the first few rows to understand the structure\u001b[39;00m\n\u001b[1;32m     12\u001b[0m tf_target_df\u001b[38;5;241m.\u001b[39mhead(), expression_df\u001b[38;5;241m.\u001b[39mhead()\n",
      "File \u001b[0;32m/Applications/anaconda3/lib/python3.12/site-packages/pandas/io/parsers/readers.py:1026\u001b[0m, in \u001b[0;36mread_csv\u001b[0;34m(filepath_or_buffer, sep, delimiter, header, names, index_col, usecols, dtype, engine, converters, true_values, false_values, skipinitialspace, skiprows, skipfooter, nrows, na_values, keep_default_na, na_filter, verbose, skip_blank_lines, parse_dates, infer_datetime_format, keep_date_col, date_parser, date_format, dayfirst, cache_dates, iterator, chunksize, compression, thousands, decimal, lineterminator, quotechar, quoting, doublequote, escapechar, comment, encoding, encoding_errors, dialect, on_bad_lines, delim_whitespace, low_memory, memory_map, float_precision, storage_options, dtype_backend)\u001b[0m\n\u001b[1;32m   1013\u001b[0m kwds_defaults \u001b[38;5;241m=\u001b[39m _refine_defaults_read(\n\u001b[1;32m   1014\u001b[0m     dialect,\n\u001b[1;32m   1015\u001b[0m     delimiter,\n\u001b[0;32m   (...)\u001b[0m\n\u001b[1;32m   1022\u001b[0m     dtype_backend\u001b[38;5;241m=\u001b[39mdtype_backend,\n\u001b[1;32m   1023\u001b[0m )\n\u001b[1;32m   1024\u001b[0m kwds\u001b[38;5;241m.\u001b[39mupdate(kwds_defaults)\n\u001b[0;32m-> 1026\u001b[0m \u001b[38;5;28;01mreturn\u001b[39;00m _read(filepath_or_buffer, kwds)\n",
      "File \u001b[0;32m/Applications/anaconda3/lib/python3.12/site-packages/pandas/io/parsers/readers.py:626\u001b[0m, in \u001b[0;36m_read\u001b[0;34m(filepath_or_buffer, kwds)\u001b[0m\n\u001b[1;32m    623\u001b[0m     \u001b[38;5;28;01mreturn\u001b[39;00m parser\n\u001b[1;32m    625\u001b[0m \u001b[38;5;28;01mwith\u001b[39;00m parser:\n\u001b[0;32m--> 626\u001b[0m     \u001b[38;5;28;01mreturn\u001b[39;00m parser\u001b[38;5;241m.\u001b[39mread(nrows)\n",
      "File \u001b[0;32m/Applications/anaconda3/lib/python3.12/site-packages/pandas/io/parsers/readers.py:1923\u001b[0m, in \u001b[0;36mTextFileReader.read\u001b[0;34m(self, nrows)\u001b[0m\n\u001b[1;32m   1916\u001b[0m nrows \u001b[38;5;241m=\u001b[39m validate_integer(\u001b[38;5;124m\"\u001b[39m\u001b[38;5;124mnrows\u001b[39m\u001b[38;5;124m\"\u001b[39m, nrows)\n\u001b[1;32m   1917\u001b[0m \u001b[38;5;28;01mtry\u001b[39;00m:\n\u001b[1;32m   1918\u001b[0m     \u001b[38;5;66;03m# error: \"ParserBase\" has no attribute \"read\"\u001b[39;00m\n\u001b[1;32m   1919\u001b[0m     (\n\u001b[1;32m   1920\u001b[0m         index,\n\u001b[1;32m   1921\u001b[0m         columns,\n\u001b[1;32m   1922\u001b[0m         col_dict,\n\u001b[0;32m-> 1923\u001b[0m     ) \u001b[38;5;241m=\u001b[39m \u001b[38;5;28mself\u001b[39m\u001b[38;5;241m.\u001b[39m_engine\u001b[38;5;241m.\u001b[39mread(  \u001b[38;5;66;03m# type: ignore[attr-defined]\u001b[39;00m\n\u001b[1;32m   1924\u001b[0m         nrows\n\u001b[1;32m   1925\u001b[0m     )\n\u001b[1;32m   1926\u001b[0m \u001b[38;5;28;01mexcept\u001b[39;00m \u001b[38;5;167;01mException\u001b[39;00m:\n\u001b[1;32m   1927\u001b[0m     \u001b[38;5;28mself\u001b[39m\u001b[38;5;241m.\u001b[39mclose()\n",
      "File \u001b[0;32m/Applications/anaconda3/lib/python3.12/site-packages/pandas/io/parsers/c_parser_wrapper.py:234\u001b[0m, in \u001b[0;36mCParserWrapper.read\u001b[0;34m(self, nrows)\u001b[0m\n\u001b[1;32m    232\u001b[0m \u001b[38;5;28;01mtry\u001b[39;00m:\n\u001b[1;32m    233\u001b[0m     \u001b[38;5;28;01mif\u001b[39;00m \u001b[38;5;28mself\u001b[39m\u001b[38;5;241m.\u001b[39mlow_memory:\n\u001b[0;32m--> 234\u001b[0m         chunks \u001b[38;5;241m=\u001b[39m \u001b[38;5;28mself\u001b[39m\u001b[38;5;241m.\u001b[39m_reader\u001b[38;5;241m.\u001b[39mread_low_memory(nrows)\n\u001b[1;32m    235\u001b[0m         \u001b[38;5;66;03m# destructive to chunks\u001b[39;00m\n\u001b[1;32m    236\u001b[0m         data \u001b[38;5;241m=\u001b[39m _concatenate_chunks(chunks)\n",
      "File \u001b[0;32mparsers.pyx:838\u001b[0m, in \u001b[0;36mpandas._libs.parsers.TextReader.read_low_memory\u001b[0;34m()\u001b[0m\n",
      "File \u001b[0;32mparsers.pyx:905\u001b[0m, in \u001b[0;36mpandas._libs.parsers.TextReader._read_rows\u001b[0;34m()\u001b[0m\n",
      "File \u001b[0;32mparsers.pyx:874\u001b[0m, in \u001b[0;36mpandas._libs.parsers.TextReader._tokenize_rows\u001b[0;34m()\u001b[0m\n",
      "File \u001b[0;32mparsers.pyx:891\u001b[0m, in \u001b[0;36mpandas._libs.parsers.TextReader._check_tokenize_status\u001b[0;34m()\u001b[0m\n",
      "File \u001b[0;32mparsers.pyx:2053\u001b[0m, in \u001b[0;36mpandas._libs.parsers.raise_parser_error\u001b[0;34m()\u001b[0m\n",
      "File \u001b[0;32m<frozen codecs>:331\u001b[0m, in \u001b[0;36mgetstate\u001b[0;34m(self)\u001b[0m\n",
      "\u001b[0;31mKeyboardInterrupt\u001b[0m: "
     ]
    }
   ],
   "source": [
    "import pandas as pd\n",
    "\n",
    "# Load the two uploaded files\n",
    "tf_target_path = '/Users/yangqingdi/Desktop/M-28/NTU_DATA_CLEANED/TF_Target.csv'\n",
    "expression_data_path = '/Users/yangqingdi/Desktop/M-28/NTU_DATA_CLEANED/LUAD_TOIL_RSEM_TPM_Levels.csv'\n",
    "\n",
    "# Read CSV files\n",
    "tf_target_df = pd.read_csv(tf_target_path)\n",
    "expression_df = pd.read_csv(expression_data_path)\n",
    "\n",
    "# Show the first few rows to understand the structure\n",
    "tf_target_df.head(), expression_df.head()\n",
    "# The TF_Target and expression data are merged and mapped using HGNC_Symbol\n",
    "merged_df = pd.merge(tf_target_df, expression_df, on=\"HGNC_Symbol\", how=\"left\")\n",
    "\n",
    "# Keep only the TF_Symbol and presentation data sections\n",
    "expression_columns = expression_df.columns.difference(['Ensembl_ID', 'HGNC_Symbol'])\n",
    "final_df = merged_df[['TF_Symbol'] + list(expression_columns)]\n",
    "\n",
    "# Save the results as a CSV file\n",
    "output_path = '/Users/yangqingdi/Desktop/M-28/NTU_DATA_CLEANED/LUAD_Model_TF_Expression_Features_Test.csv'\n",
    "final_df.to_csv(output_path, index=False)"
   ]
  }
 ],
 "metadata": {
  "kernelspec": {
   "display_name": "base",
   "language": "python",
   "name": "python3"
  },
  "language_info": {
   "codemirror_mode": {
    "name": "ipython",
    "version": 3
   },
   "file_extension": ".py",
   "mimetype": "text/x-python",
   "name": "python",
   "nbconvert_exporter": "python",
   "pygments_lexer": "ipython3",
   "version": "3.12.2"
  }
 },
 "nbformat": 4,
 "nbformat_minor": 5
}
