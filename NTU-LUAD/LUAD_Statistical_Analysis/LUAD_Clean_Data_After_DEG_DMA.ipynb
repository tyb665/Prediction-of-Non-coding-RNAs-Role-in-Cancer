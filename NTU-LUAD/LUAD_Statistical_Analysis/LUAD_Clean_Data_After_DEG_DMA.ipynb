{
 "cells": [
  {
   "cell_type": "code",
   "execution_count": null,
   "id": "6aa04dc2-6c52-465e-a999-c1d6a7d82570",
   "metadata": {},
   "outputs": [
    {
     "name": "stdout",
     "output_type": "stream",
     "text": [
      "已保存筛选后的表达矩阵，共 836 个基因到：/Users/yangqingdi/Desktop/M-28/NTU_DATA_CLEANED/LUAD_TOIL_RSEM_TPM_Levels_After_DEG_DMA.csv\n",
      "已保存筛选后的甲基化矩阵，共 222 个探针到：/Users/yangqingdi/Desktop/M-28/NTU_DATA_CLEANED/LUAD_Methylation_Levels_After_DEG_DMA.csv\n"
     ]
    }
   ],
   "source": [
    "# Author: Shuojingrui He\n",
    "# Description: Filter gene expression and methylation data based on DEG and DMA results\n",
    "\n",
    "import pandas as pd\n",
    "\n",
    "# set path\n",
    "deg_file = '/Users/yangqingdi/Desktop/M-28/NTU_DATA_CLEANED/LUAD_DEG_Significant_Results.csv'\n",
    "dma_file = '/Users/yangqingdi/Desktop/M-28/NTU_DATA_CLEANED/LUAD_DMA_Significant_Results.csv'\n",
    "expression_file = '/Users/yangqingdi/Desktop/M-28/NTU_DATA_CLEANED/LUAD_TOIL_RSEM_TPM_Levels.csv'\n",
    "methylation_file = '/Users/yangqingdi/Desktop/M-28/NTU_DATA_CLEANED/LUAD_Methylation_Levels.csv'\n",
    "\n",
    "# Define the output path\n",
    "filtered_expression_output = '/Users/yangqingdi/Desktop/M-28/NTU_DATA_CLEANED/LUAD_TOIL_RSEM_TPM_Levels_After_DEG_DMA.csv'\n",
    "filtered_methylation_output = '/Users/yangqingdi/Desktop/M-28/NTU_DATA_CLEANED/LUAD_Methylation_Levels_After_DEG_DMA.csv'\n",
    "\n",
    "\n",
    "# Read the differentially expressed gene results\n",
    "deg_df = pd.read_csv(deg_file)\n",
    "deg_genes = deg_df['HGNC_Symbol'].dropna().unique()\n",
    "\n",
    "# Read the original expression matrix\n",
    "expr_df = pd.read_csv(expression_file)\n",
    "\n",
    "# Keep only the HGNC_Symbol line in the DEG result\n",
    "filtered_expr_df = expr_df[expr_df['HGNC_Symbol'].isin(deg_genes)]\n",
    "\n",
    "# save matrix\n",
    "filtered_expr_df.to_csv(filtered_expression_output, index=False)\n",
    "#print(f\"The filtered expression matrix has been saved {filtered_expr_df.shape[0]} {filtered_expression_output}\")\n",
    "\n",
    "# -------------------------------\n",
    "# Screening methylation data\n",
    "# -------------------------------\n",
    "# read DMA result\n",
    "dma_df = pd.read_csv(dma_file)\n",
    "dma_probes = dma_df['Probe_ID'].dropna().unique()\n",
    "\n",
    "# Read raw methylation data (first column Probe_ID)\n",
    "meth_df = pd.read_csv(methylation_file)\n",
    "\n",
    "# Keep only Probe_ID in the DMA result line\n",
    "filtered_meth_df = meth_df[meth_df['Probe_ID'].isin(dma_probes)]\n",
    "\n",
    "# The filtered methylation matrix was preserved\n",
    "filtered_meth_df.to_csv(filtered_methylation_output, index=False)\n",
    "#print(f\" {filtered_meth_df.shape[0]},{filtered_methylation_output}\")"
   ]
  },
  {
   "cell_type": "code",
   "execution_count": null,
   "id": "9b875926-e9e9-4815-9f58-e4e1319e7b78",
   "metadata": {},
   "outputs": [],
   "source": []
  }
 ],
 "metadata": {
  "kernelspec": {
   "display_name": "base",
   "language": "python",
   "name": "python3"
  },
  "language_info": {
   "codemirror_mode": {
    "name": "ipython",
    "version": 3
   },
   "file_extension": ".py",
   "mimetype": "text/x-python",
   "name": "python",
   "nbconvert_exporter": "python",
   "pygments_lexer": "ipython3",
   "version": "3.12.2"
  }
 },
 "nbformat": 4,
 "nbformat_minor": 5
}
