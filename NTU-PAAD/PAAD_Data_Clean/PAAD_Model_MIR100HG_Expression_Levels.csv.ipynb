{
 "cells": [
  {
   "cell_type": "markdown",
   "id": "e90d4f8a-35f8-42b2-9b30-2faa42ea1cf1",
   "metadata": {},
   "source": [
    "# Change the column' names of PAAD_Model_MIR100HG_Expression_Levels.csv for the machine learning.\n"
   ]
  },
  {
   "cell_type": "code",
   "execution_count": null,
   "id": "4d8ee572-1b08-42a8-b2ab-d7ffb0089aac",
   "metadata": {},
   "outputs": [],
   "source": [
    "import pandas as pd\n",
    "\n",
    "# Load the CSV file you uploaded\n",
    "file_path = r\"D:\\project data\\M-28\\NTU_DATA_CLEANED\\PAAD_Model_MIR100HG_Expression_Levels.csv\"\n",
    "df = pd.read_csv(file_path)\n",
    "\n",
    "# Print the original column name for confirmation\n",
    "print(\"Original columns：\", df.columns.tolist())\n",
    "\n",
    "# Modify the column names for the first and second columns\n",
    "df.columns.values[0] = \"HGNC_Symbol\"\n",
    "df.columns.values[1] = \"Sample_ID\"\n",
    "\n",
    "# Preserve new file\n",
    "new_path = r\"D:\\project data\\M-28\\NTU_DATA_CLEANED\\PAAD_Model_MIR100HG_Expression_Levels.csv\"\n",
    "df.to_csv(new_path, index=False)\n",
    "\n",
    "# Show the first few lines for confirmation\n",
    "df.head()"
   ]
  }
 ],
 "metadata": {
  "kernelspec": {
   "display_name": "Python 3 (ipykernel)",
   "language": "python",
   "name": "python3"
  },
  "language_info": {
   "codemirror_mode": {
    "name": "ipython",
    "version": 3
   },
   "file_extension": ".py",
   "mimetype": "text/x-python",
   "name": "python",
   "nbconvert_exporter": "python",
   "pygments_lexer": "ipython3",
   "version": "3.12.4"
  }
 },
 "nbformat": 4,
 "nbformat_minor": 5
}
