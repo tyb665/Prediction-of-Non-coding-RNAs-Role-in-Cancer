{
 "cells": [
  {
   "cell_type": "markdown",
   "id": "7fd6aef9-d271-4a8e-b509-8955245090bd",
   "metadata": {},
   "source": [
    "# Create a test file 'PAAD_Model_TF_Expression_Features_Test' for machine learning"
   ]
  },
  {
   "cell_type": "code",
   "execution_count": 1,
   "id": "104d0547-291a-4ee2-a828-addad3418484",
   "metadata": {},
   "outputs": [
    {
     "data": {
      "text/plain": [
       "(  HGNC_Symbol    Gene_ID TF_Symbol  TF_ID\n",
       " 0         A2M          2    ARID3A   1820\n",
       " 1        AAA1  100329167    ARID3A   1820\n",
       " 2        AAAS       8086    ARID3A   1820\n",
       " 3        AACS      65985    ARID3A   1820\n",
       " 4       AADAC         13    ARID3A   1820,\n",
       "         Ensembl_ID HGNC_Symbol  TCGA_HZ_7922  TCGA_Q3_A5QY  TCGA_FB_A545  \\\n",
       " 0  ENSG00000000003      TSPAN6        5.3615        3.1311        4.2533   \n",
       " 1  ENSG00000000005        TNMD       -5.5735        1.9931       -9.9658   \n",
       " 2  ENSG00000000419        DPM1        5.8020        4.6770        5.4627   \n",
       " 3  ENSG00000000457       SCYL3        3.3577        1.8444        2.4544   \n",
       " 4  ENSG00000000460       FIRRM        1.8762        1.0711        2.1313   \n",
       " \n",
       "    TCGA_RL_AAAS  TCGA_F2_7276  TCGA_FB_A7DR  TCGA_YB_A89D  TCGA_IB_7889  ...  \\\n",
       " 0        4.7121        4.9814        4.0109        4.2389        4.4463  ...   \n",
       " 1       -2.6349       -2.2447       -3.3076       -3.6259       -4.6082  ...   \n",
       " 2        4.8167        5.2969        5.4019        5.3674        4.9919  ...   \n",
       " 3        2.4623        2.8280        2.4623        2.2391        2.3732  ...   \n",
       " 4        0.8082        1.3679        1.5950        1.4600        1.1117  ...   \n",
       " \n",
       "    TCGA_LB_A9Q5  TCGA_IB_A5SO  TCGA_LB_A7SX  TCGA_HV_AA8X  TCGA_HZ_A77O  \\\n",
       " 0        3.5473        3.9847        4.6154        4.1978        3.9384   \n",
       " 1       -5.5735       -3.4580       -4.0350       -9.9658       -9.9658   \n",
       " 2        4.1490        4.9787        5.4624        5.2954        4.9317   \n",
       " 3        1.3901        2.2573        2.6395        3.6042        1.9601   \n",
       " 4        0.6425        1.4547        1.9859        2.3871        1.5366   \n",
       " \n",
       "    TCGA_IB_AAUN  TCGA_HZ_7918  TCGA_2L_AAQI  TCGA_2J_AABK  TCGA_IB_7885  \n",
       " 0        4.4330        4.9892        4.8595        4.1970        4.3435  \n",
       " 1       -3.6259       -9.9658       -9.9658       -5.5735       -1.6394  \n",
       " 2        5.4835        5.6476        5.2056        4.6148        5.1248  \n",
       " 3        2.3423        2.6325        2.6138        3.0927        2.2633  \n",
       " 4        1.6327        1.6327        1.9377        1.6830        1.8879  \n",
       " \n",
       " [5 rows x 180 columns])"
      ]
     },
     "execution_count": 1,
     "metadata": {},
     "output_type": "execute_result"
    }
   ],
   "source": [
    "import pandas as pd\n",
    "\n",
    "# Load the two uploaded files\n",
    "tf_target_path = r'D:\\project data\\M-28\\NTU_DATA_CLEANED\\TF_Target.csv'\n",
    "expression_data_path = r'D:\\project data\\M-28\\NTU_DATA_CLEANED\\PAAD_TOIL_RSEM_TPM_Levels.csv'\n",
    "\n",
    "# Read CSV files\n",
    "tf_target_df = pd.read_csv(tf_target_path)\n",
    "expression_df = pd.read_csv(expression_data_path)\n",
    "\n",
    "# Show the first few rows to understand the structure\n",
    "tf_target_df.head(), expression_df.head()\n"
   ]
  },
  {
   "cell_type": "code",
   "execution_count": null,
   "id": "403e72fc-552a-455f-82dc-312533f97779",
   "metadata": {},
   "outputs": [],
   "source": [
    "# Get the expression column (remove the identification column)\n",
    "expression_columns = expression_df.columns.difference(['Ensembl_ID', 'HGNC_Symbol'])\n",
    "\n",
    "# The initial empty list is used to store each batch of results\n",
    "result_batches = []\n",
    "\n",
    "# Set batch size\n",
    "batch_size = 10000\n",
    "total_rows = tf_target_df.shape[0]\n",
    "\n",
    "# batch processing\n",
    "for start in range(0, total_rows, batch_size):\n",
    "    end = min(start + batch_size, total_rows)\n",
    "    print(f\"process from {start} to {end} row...\")\n",
    "\n",
    "    # Current batch\n",
    "    batch_df = tf_target_df.iloc[start:end]\n",
    "\n",
    "    # Merge presentation data (left join preserves TF structure)\n",
    "    batch_merged = pd.merge(batch_df, expression_df, on=\"HGNC_Symbol\", how=\"left\")\n",
    "\n",
    "    # Extract TF_Symbol and expression value\n",
    "    batch_final = batch_merged[['TF_Symbol'] + list(expression_columns)]\n",
    "\n",
    "    # Add to the results list\n",
    "    result_batches.append(batch_final)\n",
    "\n",
    "# Merge all batches\n",
    "final_df = pd.concat(result_batches, ignore_index=True)\n",
    "\n",
    "# Save as a CSV file\n",
    "output_path = r'D:\\project data\\M-28\\NTU_DATA_CLEANED\\PAAD_Model_TF_Expression_Features_Test.csv'\n",
    "final_df.to_csv(output_path, index=False)\n",
    "\n",
    "print(\"All batches are completed and saved as：\", output_path)"
   ]
  },
  {
   "cell_type": "code",
   "execution_count": null,
   "id": "7c12d2dc-c36d-436c-b227-b0791c1003bb",
   "metadata": {},
   "outputs": [],
   "source": [
    "# The TF_Target and expression data are merged and mapped using HGNC_Symbol\n",
    "merged_df = pd.merge(tf_target_df, expression_df, on=\"HGNC_Symbol\", how=\"left\")\n",
    "\n",
    "# Keep only the TF_Symbol and presentation data sections\n",
    "expression_columns = expression_df.columns.difference(['Ensembl_ID', 'HGNC_Symbol'])\n",
    "final_df = merged_df[['TF_Symbol'] + list(expression_columns)]\n",
    "\n",
    "# Save the results as a CSV file\n",
    "output_path = r'D:\\project data\\M-28\\NTU_DATA_CLEANED\\PAAD_Model_TF_Expression_Features_Test.csv'\n",
    "final_df.to_csv(output_path, index=False)"
   ]
  },
  {
   "cell_type": "code",
   "execution_count": null,
   "id": "0b687dd9-a072-4745-87a1-9101e57bfad7",
   "metadata": {},
   "outputs": [],
   "source": []
  }
 ],
 "metadata": {
  "kernelspec": {
   "display_name": "Python 3 (ipykernel)",
   "language": "python",
   "name": "python3"
  },
  "language_info": {
   "codemirror_mode": {
    "name": "ipython",
    "version": 3
   },
   "file_extension": ".py",
   "mimetype": "text/x-python",
   "name": "python",
   "nbconvert_exporter": "python",
   "pygments_lexer": "ipython3",
   "version": "3.12.4"
  }
 },
 "nbformat": 4,
 "nbformat_minor": 5
}
