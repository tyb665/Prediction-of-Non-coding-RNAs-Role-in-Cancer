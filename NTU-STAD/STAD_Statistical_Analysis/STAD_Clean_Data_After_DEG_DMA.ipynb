{
 "cells": [
  {
   "cell_type": "markdown",
   "id": "d5032eee-4894-4fe2-9701-4edd0d59e0c4",
   "metadata": {},
   "source": [
    "我现在需要筛选的基因，然后输入给随机森林或 XGBoost 模型做建模分析，现在需要你给我筛选的基因的代码。 1. 我首先已经先基于 MIR100HG 的表达分组（High / Low）进行 DGE（差异表达分析）或 DMA（差异甲基化分析）了。2.文件位置为：/Users/heweilin/Desktop/M-28/3.25_Model/DEG/PRAD_Significant_DEGs_MIR100HG_High_vs_Low.csv和/Users/heweilin/Desktop/M-28/3.25_Model/DMA/DMA_Results.csv。3.对于基因表达数据（位置/Users/heweilin/Desktop/M-28/NTU_DATA_CLEANED/PRAD_TOIL_RSEM_TPM_Levels.csv）文件现在只需要保留/Users/heweilin/Desktop/M-28/3.25_Model/DEG/PRAD_Significant_DEGs_MIR100HG_High_vs_Low.csv中出现的基因，方法是通过HGNC_Symbol列进行识别。 4. 对于甲基化表达数据（位置/Users/heweilin/Desktop/M-28/NTU_DATA_CLEANED/PRAD_Methylation_Levels.csv）只保留/Users/heweilin/Desktop/M-28/3.25_Model/DMA/DMA_Results.csv。中出现的探针数据，通过Probe_ID识别。2.最后把把这些经过筛选的基因分别保存在/Users/heweilin/Desktop/M-28/3.25_Model/中命名为PRAD_TOIL_RSEM_TPM_Levels_After_DEG_DMA.csv和PRAD_Methylation_Levels_After_DEG_DMA.csv"
   ]
  },
  {
   "cell_type": "code",
   "execution_count": 1,
   "id": "6aa04dc2-6c52-465e-a999-c1d6a7d82570",
   "metadata": {},
   "outputs": [
    {
     "name": "stdout",
     "output_type": "stream",
     "text": [
      "已保存筛选后的表达矩阵，共 3839 个基因到：/Users/heweilin/Desktop/M-28-STAD/NTU_DATA_CLEANED/STAD_TOIL_RSEM_TPM_Levels_After_DEG_DMA.csv\n",
      "已保存筛选后的甲基化矩阵，共 18694 个探针到：/Users/heweilin/Desktop/M-28-STAD/NTU_DATA_CLEANED/STAD_Methylation_Levels_After_DEG_DMA.csv\n"
     ]
    }
   ],
   "source": [
    "# Author: Weilin He\n",
    "# Description: Filter gene expression and methylation data based on DEG and DMA results\n",
    "\n",
    "import pandas as pd\n",
    "\n",
    "# 1. 文件路径定义\n",
    "deg_file = '/Users/heweilin/Desktop/M-28-STAD/NTU_DATA_CLEANED/STAD_DEG_Significant_Results.csv'\n",
    "dma_file = '/Users/heweilin/Desktop/M-28-STAD/NTU_DATA_CLEANED/STAD_DMA_Significant_Results.csv'\n",
    "expression_file = '/Users/heweilin/Desktop/M-28-STAD/NTU_DATA_CLEANED/STAD_TOIL_RSEM_TPM_Levels.csv'\n",
    "methylation_file = '/Users/heweilin/Desktop/M-28-STAD/NTU_DATA_CLEANED/STAD_Methylation_Levels.csv'\n",
    "\n",
    "# 2. 输出路径定义\n",
    "filtered_expression_output = '/Users/heweilin/Desktop/M-28-STAD/NTU_DATA_CLEANED/STAD_TOIL_RSEM_TPM_Levels_After_DEG_DMA.csv'\n",
    "filtered_methylation_output = '/Users/heweilin/Desktop/M-28-STAD/NTU_DATA_CLEANED/STAD_Methylation_Levels_After_DEG_DMA.csv'\n",
    "\n",
    "# -------------------------------\n",
    "# 筛选表达数据\n",
    "# -------------------------------\n",
    "# 读取差异表达基因结果\n",
    "deg_df = pd.read_csv(deg_file)\n",
    "deg_genes = deg_df['HGNC_Symbol'].dropna().unique()\n",
    "\n",
    "# 读取原始表达矩阵\n",
    "expr_df = pd.read_csv(expression_file)\n",
    "\n",
    "# 只保留HGNC_Symbol在DEG结果中的行\n",
    "filtered_expr_df = expr_df[expr_df['HGNC_Symbol'].isin(deg_genes)]\n",
    "\n",
    "# 保存筛选后的表达矩阵\n",
    "filtered_expr_df.to_csv(filtered_expression_output, index=False)\n",
    "print(f\"已保存筛选后的表达矩阵，共 {filtered_expr_df.shape[0]} 个基因到：{filtered_expression_output}\")\n",
    "\n",
    "# -------------------------------\n",
    "# 筛选甲基化数据\n",
    "# -------------------------------\n",
    "# 读取DMA结果\n",
    "dma_df = pd.read_csv(dma_file)\n",
    "dma_probes = dma_df['Probe_ID'].dropna().unique()\n",
    "\n",
    "# 读取原始甲基化数据（第一列为 Probe_ID）\n",
    "meth_df = pd.read_csv(methylation_file)\n",
    "\n",
    "# 只保留Probe_ID在DMA结果中的行\n",
    "filtered_meth_df = meth_df[meth_df['Probe_ID'].isin(dma_probes)]\n",
    "\n",
    "# 保存筛选后的甲基化矩阵\n",
    "filtered_meth_df.to_csv(filtered_methylation_output, index=False)\n",
    "print(f\"已保存筛选后的甲基化矩阵，共 {filtered_meth_df.shape[0]} 个探针到：{filtered_methylation_output}\")\n"
   ]
  },
  {
   "cell_type": "code",
   "execution_count": null,
   "id": "9b875926-e9e9-4815-9f58-e4e1319e7b78",
   "metadata": {},
   "outputs": [],
   "source": []
  }
 ],
 "metadata": {
  "kernelspec": {
   "display_name": "Python [conda env:base] *",
   "language": "python",
   "name": "conda-base-py"
  },
  "language_info": {
   "codemirror_mode": {
    "name": "ipython",
    "version": 3
   },
   "file_extension": ".py",
   "mimetype": "text/x-python",
   "name": "python",
   "nbconvert_exporter": "python",
   "pygments_lexer": "ipython3",
   "version": "3.12.7"
  }
 },
 "nbformat": 4,
 "nbformat_minor": 5
}
